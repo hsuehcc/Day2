{
 "cells": [
  {
   "cell_type": "markdown",
   "metadata": {},
   "source": [
    "## [作業目標]\n",
    "了解機器學習適合應用的領域與範疇。"
   ]
  },
  {
   "cell_type": "markdown",
   "metadata": {},
   "source": [
    "## [作業重點]\n",
    "透過瞭解機器學習的運作方式，找出非常適用機器學習應用的領域及其原因"
   ]
  },
  {
   "cell_type": "markdown",
   "metadata": {},
   "source": [
    "## 作業\n",
    "請找出一個你認為機器學習可以發光發熱的領域並闡述原因? "
   ]
  },
  {
   "cell_type": "code",
   "execution_count": null,
   "metadata": {},
   "outputs": [],
   "source": [
    "我認為機器學習可以用來做加工代工廠的廠房機台設置和人員配置和動線規劃.\n",
    "\n",
    "我認為在像是台積電等級的公司在導入機台,人員動線規畫的時候,\n",
    "會有一個專門的部門,來進行模擬,可能都已經可以達到70%的完美程度了.\n",
    "\n",
    "但是以一般的公司在進行廠房規劃的時候,都比較像是劃位和逐步導入的形式.\n",
    "需要什麼再加再加,導致到最後甚至是連機器人導入的空間都沒有.\n",
    "基本上現在台商在海外設置的廠房,通常都是有好幾個樓層和佔地面積廣,\n",
    "在生產規劃上面再結合MES和ERP之後,像是如果今天某某原料大缺貨,\n",
    "或是最近某項產品需求量大增的情況下,能分析的數據會增加非常之多.\n",
    "最基本的評估和評量方式是,這樣的\"動線規劃\"不論是什麼樣的狀況,\n",
    "都可以達到人員耗費最少時間,最少移動浪費,達到可以在最短的時間內順利出貨."
   ]
  }
 ],
 "metadata": {
  "kernelspec": {
   "display_name": "Python 3",
   "language": "python",
   "name": "python3"
  },
  "language_info": {
   "codemirror_mode": {
    "name": "ipython",
    "version": 3
   },
   "file_extension": ".py",
   "mimetype": "text/x-python",
   "name": "python",
   "nbconvert_exporter": "python",
   "pygments_lexer": "ipython3",
   "version": "3.8.5"
  }
 },
 "nbformat": 4,
 "nbformat_minor": 2
}
